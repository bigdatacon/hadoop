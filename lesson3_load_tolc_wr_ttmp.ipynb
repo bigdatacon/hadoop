{
 "cells": [
  {
   "cell_type": "code",
   "execution_count": 1,
   "id": "066fd73d",
   "metadata": {},
   "outputs": [
    {
     "name": "stdout",
     "output_type": "stream",
     "text": [
      "Requirement already satisfied: hdfs in c:\\programdata\\anaconda3\\lib\\site-packages (2.7.0)Note: you may need to restart the kernel to use updated packages.\n",
      "\n",
      "Requirement already satisfied: six>=1.9.0 in c:\\programdata\\anaconda3\\lib\\site-packages (from hdfs) (1.15.0)\n",
      "Requirement already satisfied: requests>=2.7.0 in c:\\programdata\\anaconda3\\lib\\site-packages (from hdfs) (2.25.1)\n",
      "Requirement already satisfied: docopt in c:\\programdata\\anaconda3\\lib\\site-packages (from hdfs) (0.6.2)\n",
      "Requirement already satisfied: urllib3<1.27,>=1.21.1 in c:\\programdata\\anaconda3\\lib\\site-packages (from requests>=2.7.0->hdfs) (1.26.4)\n",
      "Requirement already satisfied: chardet<5,>=3.0.2 in c:\\programdata\\anaconda3\\lib\\site-packages (from requests>=2.7.0->hdfs) (4.0.0)\n",
      "Requirement already satisfied: idna<3,>=2.5 in c:\\programdata\\anaconda3\\lib\\site-packages (from requests>=2.7.0->hdfs) (2.10)\n",
      "Requirement already satisfied: certifi>=2017.4.17 in c:\\programdata\\anaconda3\\lib\\site-packages (from requests>=2.7.0->hdfs) (2020.12.5)\n"
     ]
    }
   ],
   "source": [
    "pip install hdfs\n"
   ]
  },
  {
   "cell_type": "code",
   "execution_count": 2,
   "id": "f619c123",
   "metadata": {},
   "outputs": [
    {
     "name": "stdout",
     "output_type": "stream",
     "text": [
      "Requirement already satisfied: pandas in c:\\programdata\\anaconda3\\lib\\site-packages (1.2.4)\n",
      "Requirement already satisfied: numpy>=1.16.5 in c:\\programdata\\anaconda3\\lib\\site-packages (from pandas) (1.20.1)\n",
      "Requirement already satisfied: python-dateutil>=2.7.3 in c:\\programdata\\anaconda3\\lib\\site-packages (from pandas) (2.8.1)\n",
      "Requirement already satisfied: pytz>=2017.3 in c:\\programdata\\anaconda3\\lib\\site-packages (from pandas) (2021.1)\n",
      "Requirement already satisfied: six>=1.5 in c:\\programdata\\anaconda3\\lib\\site-packages (from python-dateutil>=2.7.3->pandas) (1.15.0)\n",
      "Note: you may need to restart the kernel to use updated packages.\n"
     ]
    }
   ],
   "source": [
    "pip install pandas\n"
   ]
  },
  {
   "cell_type": "code",
   "execution_count": 3,
   "id": "19986f24",
   "metadata": {},
   "outputs": [],
   "source": [
    "# импорт библиотек\n",
    "import hdfs\n",
    "import pandas as pd\n",
    "import io"
   ]
  },
  {
   "cell_type": "code",
   "execution_count": 4,
   "id": "c13f3e02",
   "metadata": {},
   "outputs": [],
   "source": [
    "# создание подключения к кластеру\n",
    "from hdfs import InsecureClient\n",
    "client = InsecureClient('http://10.4.49.21:14000/', user='anonymous')"
   ]
  },
  {
   "cell_type": "code",
   "execution_count": 5,
   "id": "bf0300d7",
   "metadata": {},
   "outputs": [
    {
     "data": {
      "text/plain": [
       "{'directoryCount': 2,\n",
       " 'fileCount': 1,\n",
       " 'length': 14592889,\n",
       " 'quota': -1,\n",
       " 'spaceConsumed': 43778667,\n",
       " 'spaceQuota': -1}"
      ]
     },
     "execution_count": 5,
     "metadata": {},
     "output_type": "execute_result"
    }
   ],
   "source": [
    "# вывод содержимого и статуса каталога hdfs\n",
    "client.content('/data/stage/epetrov/')"
   ]
  },
  {
   "cell_type": "code",
   "execution_count": 6,
   "id": "f48b204d",
   "metadata": {},
   "outputs": [
    {
     "data": {
      "text/plain": [
       "['transactions', 'transactions.parquet']"
      ]
     },
     "execution_count": 6,
     "metadata": {},
     "output_type": "execute_result"
    }
   ],
   "source": [
    "client.list('/data/stage/epetrov')"
   ]
  },
  {
   "cell_type": "code",
   "execution_count": 7,
   "id": "06d35fe1",
   "metadata": {},
   "outputs": [
    {
     "data": {
      "text/plain": [
       "{'pathSuffix': '',\n",
       " 'type': 'DIRECTORY',\n",
       " 'length': 0,\n",
       " 'owner': 'zeppelin',\n",
       " 'group': 'hadoop',\n",
       " 'permission': '755',\n",
       " 'accessTime': 0,\n",
       " 'modificationTime': 1669616459995,\n",
       " 'blockSize': 0,\n",
       " 'replication': 0}"
      ]
     },
     "execution_count": 7,
     "metadata": {},
     "output_type": "execute_result"
    }
   ],
   "source": [
    "client.status('/data/stage/epetrov/')"
   ]
  },
  {
   "cell_type": "code",
   "execution_count": 8,
   "id": "247f9fae",
   "metadata": {},
   "outputs": [],
   "source": [
    "# чтение данных из hdfs\n",
    "with client.read('/data/stage/epetrov/transactions.parquet') as f:\n",
    "  transactions = f.read()"
   ]
  },
  {
   "cell_type": "code",
   "execution_count": 9,
   "id": "783dcec6",
   "metadata": {},
   "outputs": [
    {
     "data": {
      "text/plain": [
       "bytes"
      ]
     },
     "execution_count": 9,
     "metadata": {},
     "output_type": "execute_result"
    }
   ],
   "source": [
    "type(transactions)"
   ]
  },
  {
   "cell_type": "code",
   "execution_count": 10,
   "id": "9742a35e",
   "metadata": {},
   "outputs": [
    {
     "name": "stdout",
     "output_type": "stream",
     "text": [
      "Requirement already satisfied: pyarrow in c:\\programdata\\anaconda3\\lib\\site-packages (10.0.1)Note: you may need to restart the kernel to use updated packages.\n",
      "\n",
      "Requirement already satisfied: numpy>=1.16.6 in c:\\programdata\\anaconda3\\lib\\site-packages (from pyarrow) (1.20.1)\n"
     ]
    }
   ],
   "source": [
    "pip install pyarrow"
   ]
  },
  {
   "cell_type": "code",
   "execution_count": 11,
   "id": "e01e12d7",
   "metadata": {},
   "outputs": [],
   "source": [
    "df_transactions = pd.read_parquet(io.BytesIO(transactions))"
   ]
  },
  {
   "cell_type": "code",
   "execution_count": 12,
   "id": "fcee2f6b",
   "metadata": {},
   "outputs": [
    {
     "data": {
      "text/html": [
       "<div>\n",
       "<style scoped>\n",
       "    .dataframe tbody tr th:only-of-type {\n",
       "        vertical-align: middle;\n",
       "    }\n",
       "\n",
       "    .dataframe tbody tr th {\n",
       "        vertical-align: top;\n",
       "    }\n",
       "\n",
       "    .dataframe thead th {\n",
       "        text-align: right;\n",
       "    }\n",
       "</style>\n",
       "<table border=\"1\" class=\"dataframe\">\n",
       "  <thead>\n",
       "    <tr style=\"text-align: right;\">\n",
       "      <th></th>\n",
       "      <th>id</th>\n",
       "      <th>client_id</th>\n",
       "      <th>product_category</th>\n",
       "      <th>product_company</th>\n",
       "      <th>subtype</th>\n",
       "      <th>amount</th>\n",
       "      <th>date</th>\n",
       "      <th>transaction_type</th>\n",
       "    </tr>\n",
       "  </thead>\n",
       "  <tbody>\n",
       "    <tr>\n",
       "      <th>0</th>\n",
       "      <td>34478</td>\n",
       "      <td>37</td>\n",
       "      <td>29</td>\n",
       "      <td>None</td>\n",
       "      <td>Автоплатеж</td>\n",
       "      <td>1209</td>\n",
       "      <td>2020-01-01 00:00:00</td>\n",
       "      <td>Negative</td>\n",
       "    </tr>\n",
       "    <tr>\n",
       "      <th>1</th>\n",
       "      <td>65406</td>\n",
       "      <td>71</td>\n",
       "      <td>4</td>\n",
       "      <td>YouTube Music</td>\n",
       "      <td>Подписка</td>\n",
       "      <td>169</td>\n",
       "      <td>2020-01-01 00:00:00</td>\n",
       "      <td>Negative</td>\n",
       "    </tr>\n",
       "    <tr>\n",
       "      <th>2</th>\n",
       "      <td>82186</td>\n",
       "      <td>88</td>\n",
       "      <td>29</td>\n",
       "      <td>None</td>\n",
       "      <td>Автоплатеж</td>\n",
       "      <td>3711</td>\n",
       "      <td>2020-01-01 00:00:00</td>\n",
       "      <td>Negative</td>\n",
       "    </tr>\n",
       "    <tr>\n",
       "      <th>3</th>\n",
       "      <td>83113</td>\n",
       "      <td>89</td>\n",
       "      <td>29</td>\n",
       "      <td>None</td>\n",
       "      <td>Автоплатеж</td>\n",
       "      <td>6443</td>\n",
       "      <td>2020-01-01 00:00:00</td>\n",
       "      <td>Negative</td>\n",
       "    </tr>\n",
       "    <tr>\n",
       "      <th>4</th>\n",
       "      <td>131373</td>\n",
       "      <td>141</td>\n",
       "      <td>29</td>\n",
       "      <td>None</td>\n",
       "      <td>Автоплатеж</td>\n",
       "      <td>7319</td>\n",
       "      <td>2020-01-01 00:00:00</td>\n",
       "      <td>Negative</td>\n",
       "    </tr>\n",
       "  </tbody>\n",
       "</table>\n",
       "</div>"
      ],
      "text/plain": [
       "       id  client_id  product_category product_company     subtype  amount  \\\n",
       "0   34478         37                29            None  Автоплатеж    1209   \n",
       "1   65406         71                 4   YouTube Music    Подписка     169   \n",
       "2   82186         88                29            None  Автоплатеж    3711   \n",
       "3   83113         89                29            None  Автоплатеж    6443   \n",
       "4  131373        141                29            None  Автоплатеж    7319   \n",
       "\n",
       "                  date transaction_type  \n",
       "0  2020-01-01 00:00:00         Negative  \n",
       "1  2020-01-01 00:00:00         Negative  \n",
       "2  2020-01-01 00:00:00         Negative  \n",
       "3  2020-01-01 00:00:00         Negative  \n",
       "4  2020-01-01 00:00:00         Negative  "
      ]
     },
     "execution_count": 12,
     "metadata": {},
     "output_type": "execute_result"
    }
   ],
   "source": [
    "# демонстрация данных\n",
    "df_transactions.head(5)"
   ]
  },
  {
   "cell_type": "code",
   "execution_count": 13,
   "id": "ed2d2e0b",
   "metadata": {},
   "outputs": [
    {
     "data": {
      "text/plain": [
       "'C:\\\\Users\\\\epetrov\\\\transactions.parquet'"
      ]
     },
     "execution_count": 13,
     "metadata": {},
     "output_type": "execute_result"
    }
   ],
   "source": [
    "# скачивание файла из hdfs на локальный ПК\n",
    "client.download('/data/stage/epetrov/transactions.parquet', local_path='transactions.parquet')"
   ]
  },
  {
   "cell_type": "code",
   "execution_count": 14,
   "id": "fb450401",
   "metadata": {},
   "outputs": [],
   "source": [
    "# считывание файла с локального ПК\n",
    "df_transactions = pd.read_parquet('transactions.parquet')"
   ]
  },
  {
   "cell_type": "code",
   "execution_count": 15,
   "id": "4ee8b27c",
   "metadata": {},
   "outputs": [
    {
     "data": {
      "text/html": [
       "<div>\n",
       "<style scoped>\n",
       "    .dataframe tbody tr th:only-of-type {\n",
       "        vertical-align: middle;\n",
       "    }\n",
       "\n",
       "    .dataframe tbody tr th {\n",
       "        vertical-align: top;\n",
       "    }\n",
       "\n",
       "    .dataframe thead th {\n",
       "        text-align: right;\n",
       "    }\n",
       "</style>\n",
       "<table border=\"1\" class=\"dataframe\">\n",
       "  <thead>\n",
       "    <tr style=\"text-align: right;\">\n",
       "      <th></th>\n",
       "      <th>id</th>\n",
       "      <th>client_id</th>\n",
       "      <th>product_category</th>\n",
       "      <th>product_company</th>\n",
       "      <th>subtype</th>\n",
       "      <th>amount</th>\n",
       "      <th>date</th>\n",
       "      <th>transaction_type</th>\n",
       "    </tr>\n",
       "  </thead>\n",
       "  <tbody>\n",
       "    <tr>\n",
       "      <th>0</th>\n",
       "      <td>34478</td>\n",
       "      <td>37</td>\n",
       "      <td>29</td>\n",
       "      <td>None</td>\n",
       "      <td>Автоплатеж</td>\n",
       "      <td>1209</td>\n",
       "      <td>2020-01-01 00:00:00</td>\n",
       "      <td>Negative</td>\n",
       "    </tr>\n",
       "    <tr>\n",
       "      <th>1</th>\n",
       "      <td>65406</td>\n",
       "      <td>71</td>\n",
       "      <td>4</td>\n",
       "      <td>YouTube Music</td>\n",
       "      <td>Подписка</td>\n",
       "      <td>169</td>\n",
       "      <td>2020-01-01 00:00:00</td>\n",
       "      <td>Negative</td>\n",
       "    </tr>\n",
       "    <tr>\n",
       "      <th>2</th>\n",
       "      <td>82186</td>\n",
       "      <td>88</td>\n",
       "      <td>29</td>\n",
       "      <td>None</td>\n",
       "      <td>Автоплатеж</td>\n",
       "      <td>3711</td>\n",
       "      <td>2020-01-01 00:00:00</td>\n",
       "      <td>Negative</td>\n",
       "    </tr>\n",
       "    <tr>\n",
       "      <th>3</th>\n",
       "      <td>83113</td>\n",
       "      <td>89</td>\n",
       "      <td>29</td>\n",
       "      <td>None</td>\n",
       "      <td>Автоплатеж</td>\n",
       "      <td>6443</td>\n",
       "      <td>2020-01-01 00:00:00</td>\n",
       "      <td>Negative</td>\n",
       "    </tr>\n",
       "    <tr>\n",
       "      <th>4</th>\n",
       "      <td>131373</td>\n",
       "      <td>141</td>\n",
       "      <td>29</td>\n",
       "      <td>None</td>\n",
       "      <td>Автоплатеж</td>\n",
       "      <td>7319</td>\n",
       "      <td>2020-01-01 00:00:00</td>\n",
       "      <td>Negative</td>\n",
       "    </tr>\n",
       "  </tbody>\n",
       "</table>\n",
       "</div>"
      ],
      "text/plain": [
       "       id  client_id  product_category product_company     subtype  amount  \\\n",
       "0   34478         37                29            None  Автоплатеж    1209   \n",
       "1   65406         71                 4   YouTube Music    Подписка     169   \n",
       "2   82186         88                29            None  Автоплатеж    3711   \n",
       "3   83113         89                29            None  Автоплатеж    6443   \n",
       "4  131373        141                29            None  Автоплатеж    7319   \n",
       "\n",
       "                  date transaction_type  \n",
       "0  2020-01-01 00:00:00         Negative  \n",
       "1  2020-01-01 00:00:00         Negative  \n",
       "2  2020-01-01 00:00:00         Negative  \n",
       "3  2020-01-01 00:00:00         Negative  \n",
       "4  2020-01-01 00:00:00         Negative  "
      ]
     },
     "execution_count": 15,
     "metadata": {},
     "output_type": "execute_result"
    }
   ],
   "source": [
    "# демонстрация данных\n",
    "df_transactions.head(5)"
   ]
  },
  {
   "cell_type": "code",
   "execution_count": 16,
   "id": "47900567",
   "metadata": {},
   "outputs": [
    {
     "data": {
      "text/plain": [
       "'/tmp/transactions.parquet'"
      ]
     },
     "execution_count": 16,
     "metadata": {},
     "output_type": "execute_result"
    }
   ],
   "source": [
    "# загрузка данных в hdfs\n",
    "client.upload('/tmp/', 'transactions.parquet')\n",
    "\n"
   ]
  },
  {
   "cell_type": "code",
   "execution_count": null,
   "id": "16fc8f51",
   "metadata": {},
   "outputs": [],
   "source": []
  }
 ],
 "metadata": {
  "kernelspec": {
   "display_name": "Python 3",
   "language": "python",
   "name": "python3"
  },
  "language_info": {
   "codemirror_mode": {
    "name": "ipython",
    "version": 3
   },
   "file_extension": ".py",
   "mimetype": "text/x-python",
   "name": "python",
   "nbconvert_exporter": "python",
   "pygments_lexer": "ipython3",
   "version": "3.8.8"
  }
 },
 "nbformat": 4,
 "nbformat_minor": 5
}
